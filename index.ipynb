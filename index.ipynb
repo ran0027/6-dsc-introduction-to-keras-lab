{
 "cells": [
  {
   "cell_type": "markdown",
   "metadata": {},
   "source": [
    "# Keras - Lab\n",
    "\n",
    "## Introduction\n",
    "\n",
    "In this lab you'll once again build a neural network, but this time you will be using Keras to do a lot of the heavy lifting.\n",
    "\n",
    "\n",
    "## Objectives\n",
    "\n",
    "You will be able to:\n",
    "\n",
    "- Build a neural network using Keras \n",
    "- Evaluate performance of a neural network using Keras "
   ]
  },
  {
   "cell_type": "markdown",
   "metadata": {},
   "source": [
    "## Required Packages\n",
    "\n",
    "We'll start by importing all of the required packages and classes."
   ]
  },
  {
   "cell_type": "code",
   "execution_count": 1,
   "metadata": {},
   "outputs": [
    {
     "name": "stderr",
     "output_type": "stream",
     "text": [
      "2023-03-10 12:00:19.702188: I tensorflow/core/platform/cpu_feature_guard.cc:193] This TensorFlow binary is optimized with oneAPI Deep Neural Network Library (oneDNN) to use the following CPU instructions in performance-critical operations:  SSE4.1 SSE4.2\n",
      "To enable them in other operations, rebuild TensorFlow with the appropriate compiler flags.\n"
     ]
    }
   ],
   "source": [
    "import matplotlib.pyplot as plt\n",
    "import pandas as pd\n",
    "import numpy as np\n",
    "import random\n",
    "from sklearn.model_selection import train_test_split\n",
    "from keras.utils.np_utils import to_categorical\n",
    "from sklearn import preprocessing\n",
    "from keras.preprocessing.text import Tokenizer\n",
    "from keras import models\n",
    "from keras import layers\n",
    "from keras import optimizers"
   ]
  },
  {
   "cell_type": "markdown",
   "metadata": {},
   "source": [
    "## Load the data\n",
    "\n",
    "In this lab you will be classifying bank complaints available in the `'Bank_complaints.csv'` file. "
   ]
  },
  {
   "cell_type": "code",
   "execution_count": 2,
   "metadata": {},
   "outputs": [
    {
     "name": "stdout",
     "output_type": "stream",
     "text": [
      "<class 'pandas.core.frame.DataFrame'>\n",
      "RangeIndex: 60000 entries, 0 to 59999\n",
      "Data columns (total 2 columns):\n",
      " #   Column                        Non-Null Count  Dtype \n",
      "---  ------                        --------------  ----- \n",
      " 0   Product                       60000 non-null  object\n",
      " 1   Consumer complaint narrative  60000 non-null  object\n",
      "dtypes: object(2)\n",
      "memory usage: 937.6+ KB\n",
      "None\n"
     ]
    },
    {
     "data": {
      "text/html": [
       "<div>\n",
       "<style scoped>\n",
       "    .dataframe tbody tr th:only-of-type {\n",
       "        vertical-align: middle;\n",
       "    }\n",
       "\n",
       "    .dataframe tbody tr th {\n",
       "        vertical-align: top;\n",
       "    }\n",
       "\n",
       "    .dataframe thead th {\n",
       "        text-align: right;\n",
       "    }\n",
       "</style>\n",
       "<table border=\"1\" class=\"dataframe\">\n",
       "  <thead>\n",
       "    <tr style=\"text-align: right;\">\n",
       "      <th></th>\n",
       "      <th>Product</th>\n",
       "      <th>Consumer complaint narrative</th>\n",
       "    </tr>\n",
       "  </thead>\n",
       "  <tbody>\n",
       "    <tr>\n",
       "      <th>0</th>\n",
       "      <td>Student loan</td>\n",
       "      <td>In XX/XX/XXXX I filled out the Fedlaon applica...</td>\n",
       "    </tr>\n",
       "    <tr>\n",
       "      <th>1</th>\n",
       "      <td>Student loan</td>\n",
       "      <td>I am being contacted by a debt collector for p...</td>\n",
       "    </tr>\n",
       "    <tr>\n",
       "      <th>2</th>\n",
       "      <td>Student loan</td>\n",
       "      <td>I cosigned XXXX student loans at SallieMae for...</td>\n",
       "    </tr>\n",
       "    <tr>\n",
       "      <th>3</th>\n",
       "      <td>Student loan</td>\n",
       "      <td>Navient has sytematically and illegally failed...</td>\n",
       "    </tr>\n",
       "    <tr>\n",
       "      <th>4</th>\n",
       "      <td>Student loan</td>\n",
       "      <td>My wife became eligible for XXXX Loan Forgiven...</td>\n",
       "    </tr>\n",
       "  </tbody>\n",
       "</table>\n",
       "</div>"
      ],
      "text/plain": [
       "        Product                       Consumer complaint narrative\n",
       "0  Student loan  In XX/XX/XXXX I filled out the Fedlaon applica...\n",
       "1  Student loan  I am being contacted by a debt collector for p...\n",
       "2  Student loan  I cosigned XXXX student loans at SallieMae for...\n",
       "3  Student loan  Navient has sytematically and illegally failed...\n",
       "4  Student loan  My wife became eligible for XXXX Loan Forgiven..."
      ]
     },
     "execution_count": 2,
     "metadata": {},
     "output_type": "execute_result"
    }
   ],
   "source": [
    "# Import data\n",
    "df = pd.read_csv('Bank_complaints.csv')\n",
    "\n",
    "# Inspect data\n",
    "print(df.info())\n",
    "df.head()"
   ]
  },
  {
   "cell_type": "markdown",
   "metadata": {},
   "source": [
    "As mentioned earlier, your task is to categorize banking complaints into various predefined categories. Preview what these categories are and what percent of the complaints each accounts for. "
   ]
  },
  {
   "cell_type": "code",
   "execution_count": 3,
   "metadata": {},
   "outputs": [
    {
     "data": {
      "text/plain": [
       "Student loan                   0.190067\n",
       "Credit card                    0.159000\n",
       "Consumer Loan                  0.157900\n",
       "Mortgage                       0.138867\n",
       "Bank account or service        0.138483\n",
       "Credit reporting               0.114400\n",
       "Checking or savings account    0.101283\n",
       "Name: Product, dtype: float64"
      ]
     },
     "execution_count": 3,
     "metadata": {},
     "output_type": "execute_result"
    }
   ],
   "source": [
    "# Your code here\n",
    "df.Product.value_counts(normalize=True)"
   ]
  },
  {
   "cell_type": "markdown",
   "metadata": {},
   "source": [
    "## Preprocessing\n",
    "\n",
    "Before we build our neural network, we need to do several preprocessing steps. First, we will create word vector counts (a bag of words type representation) of our complaints text. Next, we will change the category labels to integers. Finally, we will perform our usual train-test split before building and training our neural network using Keras. With that, let's start munging our data! \n",
    "\n",
    "## One-hot encoding of the complaints\n",
    "\n",
    "Our first step again is to transform our textual data into a numerical representation. As we saw in some of our previous lessons on NLP, there are many ways to do this. Here, we'll use the `Tokenizer()` class from the `preprocessing.text` sub-module of the Keras package.   \n",
    "\n",
    "As with our previous work using NLTK, this will transform our text complaints into word vectors. (Note that the method of creating a vector is different from our previous work with NLTK; as you'll see, word order will be preserved as opposed to a bag of words representation). In the below code, we'll only keep the 2,000 most common words and use one-hot encoding. \n",
    "\n"
   ]
  },
  {
   "cell_type": "code",
   "execution_count": 4,
   "metadata": {},
   "outputs": [],
   "source": [
    "# As a quick preliminary, briefly review the docstring for keras.preprocessing.text.Tokenizer\n",
    "Tokenizer?"
   ]
  },
  {
   "cell_type": "code",
   "execution_count": 5,
   "metadata": {},
   "outputs": [
    {
     "name": "stdout",
     "output_type": "stream",
     "text": [
      "sequences type: <class 'list'>\n",
      "one_hot_results type: <class 'numpy.ndarray'>\n",
      "Found 50110 unique tokens.\n",
      "Dimensions of our coded results: (60000, 2000)\n"
     ]
    }
   ],
   "source": [
    "# ⏰ This cell may take about thirty seconds to run\n",
    "\n",
    "# Raw text complaints\n",
    "complaints = df['Consumer complaint narrative'] \n",
    "\n",
    "# Initialize a tokenizer \n",
    "tokenizer = Tokenizer(num_words=2000) \n",
    "\n",
    "# Fit it to the complaints\n",
    "tokenizer.fit_on_texts(complaints) \n",
    "\n",
    "# Generate sequences\n",
    "sequences = tokenizer.texts_to_sequences(complaints) \n",
    "print('sequences type:', type(sequences))\n",
    "\n",
    "# Similar to sequences, but returns a numpy array\n",
    "one_hot_results= tokenizer.texts_to_matrix(complaints, mode='binary') \n",
    "print('one_hot_results type:', type(one_hot_results))\n",
    "\n",
    "# Useful if we wish to decode (more explanation below)\n",
    "word_index = tokenizer.word_index \n",
    "\n",
    "# Tokens are the number of unique words across the corpus\n",
    "print('Found %s unique tokens.' % len(word_index)) \n",
    "\n",
    "# Our coded data\n",
    "print('Dimensions of our coded results:', np.shape(one_hot_results)) "
   ]
  },
  {
   "cell_type": "markdown",
   "metadata": {},
   "source": [
    "## Decoding Word Vectors \n",
    "\n",
    "As a note, you can also decode these vectorized representations of the reviews. The `word_index` variable, defined above, stores the mapping from the label number to the actual word. Somewhat tediously, we can turn this dictionary inside out and map it back to our word vectors, giving us roughly the original complaint back. (As you'll see, the text won't be identical as we limited ourselves to top 2000 words.)\n",
    "\n",
    "## Python Review / Mini Challenge\n",
    "\n",
    "While a bit tangential to our main topic of interest, we need to reverse our current dictionary `word_index` which maps words from our corpus to integers. In decoding our `one_hot_results`, we will need to create a dictionary of these integers to the original words. Below, take the `word_index` dictionary object and change the orientation so that the values are keys and the keys values. In other words, you are transforming something of the form {A:1, B:2, C:3} to {1:A, 2:B, 3:C}. "
   ]
  },
  {
   "cell_type": "code",
   "execution_count": 21,
   "metadata": {},
   "outputs": [],
   "source": [
    "# Your code here\n",
    "reverse_index = {value: key for key, value in word_index.items()}"
   ]
  },
  {
   "cell_type": "markdown",
   "metadata": {},
   "source": [
    "## Back to Decoding Our Word Vectors..."
   ]
  },
  {
   "cell_type": "code",
   "execution_count": 22,
   "metadata": {},
   "outputs": [
    {
     "name": "stdout",
     "output_type": "stream",
     "text": [
      "Original complaint text:\n",
      "I have already filed several complaints about AES/PHEAA. I was notified by a XXXX XXXX let @ XXXX, who pretended to be from your office, he said he was from CFPB. I found out this morning he is n't from your office, but is actually works at XXXX. \n",
      "\n",
      "This has wasted weeks of my time. They AES/PHEAA confirmed and admitted ( see attached transcript of XXXX, conversation at XXXX ( XXXX ) with XXXX that proves they verified the loans are not mine ) the student loans they had XXXX, and collected on, and reported negate credit reporting in my name are in fact, not mine. \n",
      "They conclued their investigation on XXXX admitting they made a mistake and have my name on soneone elses loans. I these XXXX loans total {$10000.00}, original amount. My XXXX loans I got was total {$3500.00}. We proved by providing AES/PHEAA, this with my original promissary notes I located recently, the XXXX of my college provided AES/PHEAA with their original shoeinf amounts of my XXXX loans which show different dates and amounts, the dates and amounts are not even close to matching these loans they have in my name, The original lender, XXXX XXXX Bank notifying AES/PHEAA, they never issued me a student loan, and original Loan Guarantor, XXXX, notifying AES/PHEAA, they never were guarantor of my loans. \n",
      "\n",
      "XXXX straight forward. But today, this person, XXXX XXXX, told me they know these loans are not mine, and they refuse to remove my name off these XXXX loan 's and correct their mistake, essentially forcing me to pay these loans off, bucause in XXXX they sold the loans to XXXX loans. \n",
      "\n",
      "This is absurd, first protruding to be this office, and then refusing to correct their mistake. \n",
      "\n",
      "Please for the love of XXXX will soneone from your office call me at XXXX, today. I am a XXXX vet and they are knowingly discriminating against me. \n",
      "Pretending to be you.\n",
      "\n",
      "\n",
      "\n",
      "Decoded review from Tokenizer:\n",
      "i have already filed several complaints about aes i was notified by a xxxx xxxx let xxxx who to be from your office he said he was from cfpb i found out this morning he is n't from your office but is actually works at xxxx this has weeks of my time they aes confirmed and admitted see attached of xxxx conversation at xxxx xxxx with xxxx that they verified the loans are not mine the student loans they had xxxx and on and reported credit reporting in my name are in fact not mine they their investigation on xxxx they made a mistake and have my name on loans i these xxxx loans total 10000 00 original amount my xxxx loans i got was total 00 we by providing aes this with my original notes i located recently the xxxx of my college provided aes with their original amounts of my xxxx loans which show different dates and amounts the dates and amounts are not even close to these loans they have in my name the original lender xxxx xxxx bank notifying aes they never issued me a student loan and original loan xxxx notifying aes they never were of my loans xxxx forward but today this person xxxx xxxx told me they know these loans are not mine and they refuse to remove my name off these xxxx loan 's and correct their mistake essentially me to pay these loans off in xxxx they sold the loans to xxxx loans this is first to be this office and then refusing to correct their mistake please for the of xxxx will from your office call me at xxxx today i am a xxxx and they are against me to be you\n"
     ]
    }
   ],
   "source": [
    "comment_idx_to_preview = 19\n",
    "print('Original complaint text:')\n",
    "print(complaints[comment_idx_to_preview])\n",
    "print('\\n\\n')\n",
    "\n",
    "# The reverse_index cell block above must be complete in order for this cell block to successively execute \n",
    "decoded_review = ' '.join([reverse_index.get(i) for i in sequences[comment_idx_to_preview]])\n",
    "print('Decoded review from Tokenizer:')\n",
    "print(decoded_review)"
   ]
  },
  {
   "cell_type": "markdown",
   "metadata": {},
   "source": [
    "## Convert the Products to Numerical Categories\n",
    "\n",
    "On to step two of our preprocessing: converting our descriptive categories into integers."
   ]
  },
  {
   "cell_type": "code",
   "execution_count": 23,
   "metadata": {},
   "outputs": [
    {
     "name": "stdout",
     "output_type": "stream",
     "text": [
      "Original class labels:\n",
      "['Bank account or service', 'Checking or savings account', 'Consumer Loan', 'Credit card', 'Credit reporting', 'Mortgage', 'Student loan']\n",
      "\n",
      "\n",
      "New product labels:\n",
      "[6 6 6 ... 4 4 4]\n",
      "\n",
      "\n",
      "One hot labels; 7 binary columns, one for each of the categories.\n",
      "[[0. 0. 0. ... 0. 0. 1.]\n",
      " [0. 0. 0. ... 0. 0. 1.]\n",
      " [0. 0. 0. ... 0. 0. 1.]\n",
      " ...\n",
      " [0. 0. 0. ... 1. 0. 0.]\n",
      " [0. 0. 0. ... 1. 0. 0.]\n",
      " [0. 0. 0. ... 1. 0. 0.]]\n",
      "\n",
      "\n",
      "One hot labels shape:\n",
      "(60000, 7)\n"
     ]
    }
   ],
   "source": [
    "product = df['Product']\n",
    "\n",
    "# Initialize\n",
    "le = preprocessing.LabelEncoder() \n",
    "le.fit(product)\n",
    "print('Original class labels:')\n",
    "print(list(le.classes_))\n",
    "print('\\n')\n",
    "product_cat = le.transform(product)  \n",
    "\n",
    "# If you wish to retrieve the original descriptive labels post production\n",
    "# list(le.inverse_transform([0, 1, 3, 3, 0, 6, 4])) \n",
    "\n",
    "print('New product labels:')\n",
    "print(product_cat)\n",
    "print('\\n')\n",
    "\n",
    "# Each row will be all zeros except for the category for that observation \n",
    "print('One hot labels; 7 binary columns, one for each of the categories.') \n",
    "product_onehot = to_categorical(product_cat)\n",
    "print(product_onehot)\n",
    "print('\\n')\n",
    "\n",
    "print('One hot labels shape:')\n",
    "print(np.shape(product_onehot))"
   ]
  },
  {
   "cell_type": "markdown",
   "metadata": {},
   "source": [
    "## Train-test split\n",
    "\n",
    "Now for our final preprocessing step: the usual train-test split. "
   ]
  },
  {
   "cell_type": "code",
   "execution_count": 24,
   "metadata": {},
   "outputs": [
    {
     "name": "stdout",
     "output_type": "stream",
     "text": [
      "Test label shape: (1500, 7)\n",
      "Train label shape: (58500, 7)\n",
      "Test shape: (1500, 2000)\n",
      "Train shape: (58500, 2000)\n"
     ]
    }
   ],
   "source": [
    "random.seed(123)\n",
    "test_index = random.sample(range(1,10000), 1500)\n",
    "\n",
    "test = one_hot_results[test_index]\n",
    "train = np.delete(one_hot_results, test_index, 0)\n",
    "\n",
    "label_test = product_onehot[test_index]\n",
    "label_train = np.delete(product_onehot, test_index, 0)\n",
    "\n",
    "print('Test label shape:', np.shape(label_test))\n",
    "print('Train label shape:', np.shape(label_train))\n",
    "print('Test shape:', np.shape(test))\n",
    "print('Train shape:', np.shape(train))"
   ]
  },
  {
   "cell_type": "markdown",
   "metadata": {},
   "source": [
    "## Building the network\n",
    "\n",
    "Let's build a fully connected (Dense) layer network with relu activation in Keras. You can do this using: `Dense(16, activation='relu')`. \n",
    "\n",
    "In this example, use two hidden layers with 50 units in the first layer and 25 in the second, both with a `'relu'` activation function. Because we are dealing with a multiclass problem (classifying the complaints into 7 categories), we use a use a `'softmax'` classifier in order to output 7 class probabilities per case.  "
   ]
  },
  {
   "cell_type": "code",
   "execution_count": 26,
   "metadata": {},
   "outputs": [
    {
     "data": {
      "text/plain": [
       "(58500, 2000)"
      ]
     },
     "execution_count": 26,
     "metadata": {},
     "output_type": "execute_result"
    }
   ],
   "source": [
    "train.shape"
   ]
  },
  {
   "cell_type": "code",
   "execution_count": 28,
   "metadata": {},
   "outputs": [],
   "source": [
    "# Initialize a sequential model\n",
    "model = models.Sequential()\n",
    "\n",
    "# Two layers with relu activation\n",
    "model.add(layers.Dense(50, 'relu', input_shape=(2000,))) # why 2000 & not 58500, 2000?\n",
    "model.add(layers.Dense(25, 'relu'))\n",
    "\n",
    "# One layer with softmax activation \n",
    "model.add(layers.Dense(7, 'softmax'))"
   ]
  },
  {
   "cell_type": "markdown",
   "metadata": {},
   "source": [
    "## Compiling the model\n",
    "\n",
    "Now, compile the model! This time, use `'categorical_crossentropy'` as the loss function and stochastic gradient descent, `'SGD'` as the optimizer. As in the previous lesson, include the accuracy as a metric."
   ]
  },
  {
   "cell_type": "code",
   "execution_count": 29,
   "metadata": {},
   "outputs": [],
   "source": [
    "# Compile the model\n",
    "model.compile(optimizer='SGD',\n",
    "              loss='categorical_crossentropy',\n",
    "              metrics='accuracy')"
   ]
  },
  {
   "cell_type": "markdown",
   "metadata": {},
   "source": [
    "## Training the model\n",
    "\n",
    "In the compiler, you'll be passing the optimizer (SGD = stochastic gradient descent), loss function, and metrics. Train the model for 120 epochs in mini-batches of 256 samples.\n",
    "\n",
    "_Note:_ ⏰ _Your code may take about one to two minutes to run._"
   ]
  },
  {
   "cell_type": "code",
   "execution_count": 30,
   "metadata": {},
   "outputs": [
    {
     "name": "stdout",
     "output_type": "stream",
     "text": [
      "Epoch 1/120\n",
      "229/229 [==============================] - 1s 3ms/step - loss: 1.9122 - accuracy: 0.1992 - val_loss: 1.5962 - val_accuracy: 0.7707\n",
      "Epoch 2/120\n",
      "229/229 [==============================] - 1s 2ms/step - loss: 1.7250 - accuracy: 0.3913 - val_loss: 1.0987 - val_accuracy: 0.8820\n",
      "Epoch 3/120\n",
      "229/229 [==============================] - 1s 2ms/step - loss: 1.3770 - accuracy: 0.5904 - val_loss: 0.7277 - val_accuracy: 0.8673\n",
      "Epoch 4/120\n",
      "229/229 [==============================] - 1s 2ms/step - loss: 1.0533 - accuracy: 0.6802 - val_loss: 0.5722 - val_accuracy: 0.8540\n",
      "Epoch 5/120\n",
      "229/229 [==============================] - 1s 2ms/step - loss: 0.8636 - accuracy: 0.7139 - val_loss: 0.4667 - val_accuracy: 0.8713\n",
      "Epoch 6/120\n",
      "229/229 [==============================] - 1s 2ms/step - loss: 0.7640 - accuracy: 0.7318 - val_loss: 0.3692 - val_accuracy: 0.8967\n",
      "Epoch 7/120\n",
      "229/229 [==============================] - 1s 2ms/step - loss: 0.7062 - accuracy: 0.7462 - val_loss: 0.3497 - val_accuracy: 0.8993\n",
      "Epoch 8/120\n",
      "229/229 [==============================] - 1s 3ms/step - loss: 0.6685 - accuracy: 0.7564 - val_loss: 0.3497 - val_accuracy: 0.8960\n",
      "Epoch 9/120\n",
      "229/229 [==============================] - 1s 2ms/step - loss: 0.6409 - accuracy: 0.7648 - val_loss: 0.3422 - val_accuracy: 0.8947\n",
      "Epoch 10/120\n",
      "229/229 [==============================] - 1s 2ms/step - loss: 0.6194 - accuracy: 0.7727 - val_loss: 0.3094 - val_accuracy: 0.9040\n",
      "Epoch 11/120\n",
      "229/229 [==============================] - 1s 2ms/step - loss: 0.6015 - accuracy: 0.7794 - val_loss: 0.2946 - val_accuracy: 0.9073\n",
      "Epoch 12/120\n",
      "229/229 [==============================] - 1s 2ms/step - loss: 0.5868 - accuracy: 0.7852 - val_loss: 0.2796 - val_accuracy: 0.9067\n",
      "Epoch 13/120\n",
      "229/229 [==============================] - 1s 2ms/step - loss: 0.5734 - accuracy: 0.7905 - val_loss: 0.2963 - val_accuracy: 0.8980\n",
      "Epoch 14/120\n",
      "229/229 [==============================] - 1s 2ms/step - loss: 0.5620 - accuracy: 0.7950 - val_loss: 0.2644 - val_accuracy: 0.9107\n",
      "Epoch 15/120\n",
      "229/229 [==============================] - 1s 2ms/step - loss: 0.5519 - accuracy: 0.7995 - val_loss: 0.2885 - val_accuracy: 0.9053\n",
      "Epoch 16/120\n",
      "229/229 [==============================] - 1s 2ms/step - loss: 0.5425 - accuracy: 0.8033 - val_loss: 0.2704 - val_accuracy: 0.9113\n",
      "Epoch 17/120\n",
      "229/229 [==============================] - 1s 2ms/step - loss: 0.5340 - accuracy: 0.8077 - val_loss: 0.2712 - val_accuracy: 0.9140\n",
      "Epoch 18/120\n",
      "229/229 [==============================] - 1s 2ms/step - loss: 0.5264 - accuracy: 0.8095 - val_loss: 0.2493 - val_accuracy: 0.9193\n",
      "Epoch 19/120\n",
      "229/229 [==============================] - 1s 2ms/step - loss: 0.5190 - accuracy: 0.8127 - val_loss: 0.2485 - val_accuracy: 0.9187\n",
      "Epoch 20/120\n",
      "229/229 [==============================] - 1s 2ms/step - loss: 0.5124 - accuracy: 0.8152 - val_loss: 0.2319 - val_accuracy: 0.9227\n",
      "Epoch 21/120\n",
      "229/229 [==============================] - 1s 2ms/step - loss: 0.5063 - accuracy: 0.8182 - val_loss: 0.2393 - val_accuracy: 0.9233\n",
      "Epoch 22/120\n",
      "229/229 [==============================] - 1s 2ms/step - loss: 0.5003 - accuracy: 0.8203 - val_loss: 0.2581 - val_accuracy: 0.9153\n",
      "Epoch 23/120\n",
      "229/229 [==============================] - 1s 2ms/step - loss: 0.4950 - accuracy: 0.8217 - val_loss: 0.2351 - val_accuracy: 0.9247\n",
      "Epoch 24/120\n",
      "229/229 [==============================] - 1s 2ms/step - loss: 0.4898 - accuracy: 0.8239 - val_loss: 0.2606 - val_accuracy: 0.9140\n",
      "Epoch 25/120\n",
      "229/229 [==============================] - 1s 2ms/step - loss: 0.4849 - accuracy: 0.8269 - val_loss: 0.2593 - val_accuracy: 0.9160\n",
      "Epoch 26/120\n",
      "229/229 [==============================] - 1s 2ms/step - loss: 0.4805 - accuracy: 0.8292 - val_loss: 0.2473 - val_accuracy: 0.9193\n",
      "Epoch 27/120\n",
      "229/229 [==============================] - 1s 2ms/step - loss: 0.4761 - accuracy: 0.8298 - val_loss: 0.2321 - val_accuracy: 0.9220\n",
      "Epoch 28/120\n",
      "229/229 [==============================] - 1s 2ms/step - loss: 0.4719 - accuracy: 0.8311 - val_loss: 0.2396 - val_accuracy: 0.9240\n",
      "Epoch 29/120\n",
      "229/229 [==============================] - 1s 2ms/step - loss: 0.4679 - accuracy: 0.8332 - val_loss: 0.2230 - val_accuracy: 0.9307\n",
      "Epoch 30/120\n",
      "229/229 [==============================] - 1s 2ms/step - loss: 0.4642 - accuracy: 0.8351 - val_loss: 0.2453 - val_accuracy: 0.9193\n",
      "Epoch 31/120\n",
      "229/229 [==============================] - 1s 2ms/step - loss: 0.4608 - accuracy: 0.8357 - val_loss: 0.2262 - val_accuracy: 0.9280\n",
      "Epoch 32/120\n",
      "229/229 [==============================] - 1s 2ms/step - loss: 0.4574 - accuracy: 0.8372 - val_loss: 0.2238 - val_accuracy: 0.9280\n",
      "Epoch 33/120\n",
      "229/229 [==============================] - 1s 2ms/step - loss: 0.4542 - accuracy: 0.8385 - val_loss: 0.2361 - val_accuracy: 0.9233\n",
      "Epoch 34/120\n",
      "229/229 [==============================] - 1s 2ms/step - loss: 0.4511 - accuracy: 0.8392 - val_loss: 0.2283 - val_accuracy: 0.9260\n",
      "Epoch 35/120\n",
      "229/229 [==============================] - 1s 2ms/step - loss: 0.4482 - accuracy: 0.8407 - val_loss: 0.2074 - val_accuracy: 0.9360\n",
      "Epoch 36/120\n",
      "229/229 [==============================] - 1s 2ms/step - loss: 0.4447 - accuracy: 0.8423 - val_loss: 0.2270 - val_accuracy: 0.9253\n",
      "Epoch 37/120\n",
      "229/229 [==============================] - 1s 2ms/step - loss: 0.4423 - accuracy: 0.8424 - val_loss: 0.2172 - val_accuracy: 0.9313\n",
      "Epoch 38/120\n",
      "229/229 [==============================] - 1s 3ms/step - loss: 0.4393 - accuracy: 0.8438 - val_loss: 0.2272 - val_accuracy: 0.9293\n",
      "Epoch 39/120\n",
      "229/229 [==============================] - 1s 2ms/step - loss: 0.4367 - accuracy: 0.8452 - val_loss: 0.2318 - val_accuracy: 0.9233\n",
      "Epoch 40/120\n",
      "229/229 [==============================] - 1s 2ms/step - loss: 0.4343 - accuracy: 0.8454 - val_loss: 0.2295 - val_accuracy: 0.9280\n",
      "Epoch 41/120\n",
      "229/229 [==============================] - 1s 2ms/step - loss: 0.4319 - accuracy: 0.8459 - val_loss: 0.2282 - val_accuracy: 0.9267\n",
      "Epoch 42/120\n",
      "229/229 [==============================] - 1s 2ms/step - loss: 0.4297 - accuracy: 0.8472 - val_loss: 0.2119 - val_accuracy: 0.9340\n",
      "Epoch 43/120\n",
      "229/229 [==============================] - 1s 2ms/step - loss: 0.4271 - accuracy: 0.8482 - val_loss: 0.2306 - val_accuracy: 0.9273\n",
      "Epoch 44/120\n",
      "229/229 [==============================] - 1s 2ms/step - loss: 0.4250 - accuracy: 0.8483 - val_loss: 0.2305 - val_accuracy: 0.9280\n",
      "Epoch 45/120\n",
      "229/229 [==============================] - 1s 2ms/step - loss: 0.4230 - accuracy: 0.8497 - val_loss: 0.2326 - val_accuracy: 0.9267\n",
      "Epoch 46/120\n",
      "229/229 [==============================] - 1s 2ms/step - loss: 0.4210 - accuracy: 0.8502 - val_loss: 0.2236 - val_accuracy: 0.9273\n",
      "Epoch 47/120\n",
      "229/229 [==============================] - 1s 2ms/step - loss: 0.4186 - accuracy: 0.8509 - val_loss: 0.2202 - val_accuracy: 0.9287\n",
      "Epoch 48/120\n",
      "229/229 [==============================] - 1s 2ms/step - loss: 0.4166 - accuracy: 0.8514 - val_loss: 0.2421 - val_accuracy: 0.9213\n",
      "Epoch 49/120\n",
      "229/229 [==============================] - 1s 2ms/step - loss: 0.4147 - accuracy: 0.8525 - val_loss: 0.2301 - val_accuracy: 0.9240\n",
      "Epoch 50/120\n",
      "229/229 [==============================] - 1s 2ms/step - loss: 0.4127 - accuracy: 0.8529 - val_loss: 0.2433 - val_accuracy: 0.9220\n",
      "Epoch 51/120\n",
      "229/229 [==============================] - 1s 2ms/step - loss: 0.4110 - accuracy: 0.8536 - val_loss: 0.2286 - val_accuracy: 0.9273\n",
      "Epoch 52/120\n",
      "229/229 [==============================] - 1s 2ms/step - loss: 0.4090 - accuracy: 0.8545 - val_loss: 0.2173 - val_accuracy: 0.9293\n",
      "Epoch 53/120\n",
      "229/229 [==============================] - 1s 2ms/step - loss: 0.4076 - accuracy: 0.8550 - val_loss: 0.2224 - val_accuracy: 0.9260\n",
      "Epoch 54/120\n",
      "229/229 [==============================] - 1s 2ms/step - loss: 0.4058 - accuracy: 0.8547 - val_loss: 0.2315 - val_accuracy: 0.9253\n",
      "Epoch 55/120\n",
      "229/229 [==============================] - 1s 2ms/step - loss: 0.4038 - accuracy: 0.8559 - val_loss: 0.2230 - val_accuracy: 0.9287\n",
      "Epoch 56/120\n",
      "229/229 [==============================] - 1s 2ms/step - loss: 0.4022 - accuracy: 0.8571 - val_loss: 0.2478 - val_accuracy: 0.9207\n",
      "Epoch 57/120\n",
      "229/229 [==============================] - 1s 2ms/step - loss: 0.4010 - accuracy: 0.8576 - val_loss: 0.2332 - val_accuracy: 0.9233\n"
     ]
    },
    {
     "name": "stdout",
     "output_type": "stream",
     "text": [
      "Epoch 58/120\n",
      "229/229 [==============================] - 1s 2ms/step - loss: 0.3990 - accuracy: 0.8586 - val_loss: 0.1932 - val_accuracy: 0.9407\n",
      "Epoch 59/120\n",
      "229/229 [==============================] - 1s 2ms/step - loss: 0.3977 - accuracy: 0.8589 - val_loss: 0.2108 - val_accuracy: 0.9327\n",
      "Epoch 60/120\n",
      "229/229 [==============================] - 1s 2ms/step - loss: 0.3961 - accuracy: 0.8587 - val_loss: 0.1970 - val_accuracy: 0.9393\n",
      "Epoch 61/120\n",
      "229/229 [==============================] - 1s 2ms/step - loss: 0.3947 - accuracy: 0.8594 - val_loss: 0.2078 - val_accuracy: 0.9320\n",
      "Epoch 62/120\n",
      "229/229 [==============================] - 1s 2ms/step - loss: 0.3935 - accuracy: 0.8589 - val_loss: 0.2522 - val_accuracy: 0.9160\n",
      "Epoch 63/120\n",
      "229/229 [==============================] - 1s 2ms/step - loss: 0.3918 - accuracy: 0.8605 - val_loss: 0.2099 - val_accuracy: 0.9333\n",
      "Epoch 64/120\n",
      "229/229 [==============================] - 1s 2ms/step - loss: 0.3902 - accuracy: 0.8614 - val_loss: 0.2289 - val_accuracy: 0.9287\n",
      "Epoch 65/120\n",
      "229/229 [==============================] - 1s 2ms/step - loss: 0.3886 - accuracy: 0.8615 - val_loss: 0.2167 - val_accuracy: 0.9313\n",
      "Epoch 66/120\n",
      "229/229 [==============================] - 1s 2ms/step - loss: 0.3876 - accuracy: 0.8614 - val_loss: 0.2207 - val_accuracy: 0.9300\n",
      "Epoch 67/120\n",
      "229/229 [==============================] - 1s 2ms/step - loss: 0.3863 - accuracy: 0.8623 - val_loss: 0.2135 - val_accuracy: 0.9320\n",
      "Epoch 68/120\n",
      "229/229 [==============================] - 1s 2ms/step - loss: 0.3848 - accuracy: 0.8638 - val_loss: 0.2072 - val_accuracy: 0.9353\n",
      "Epoch 69/120\n",
      "229/229 [==============================] - 1s 2ms/step - loss: 0.3834 - accuracy: 0.8640 - val_loss: 0.2080 - val_accuracy: 0.9347\n",
      "Epoch 70/120\n",
      "229/229 [==============================] - 1s 2ms/step - loss: 0.3824 - accuracy: 0.8638 - val_loss: 0.2369 - val_accuracy: 0.9260\n",
      "Epoch 71/120\n",
      "229/229 [==============================] - 1s 2ms/step - loss: 0.3811 - accuracy: 0.8644 - val_loss: 0.2303 - val_accuracy: 0.9260\n",
      "Epoch 72/120\n",
      "229/229 [==============================] - 1s 2ms/step - loss: 0.3795 - accuracy: 0.8645 - val_loss: 0.2254 - val_accuracy: 0.9307\n",
      "Epoch 73/120\n",
      "229/229 [==============================] - 1s 2ms/step - loss: 0.3786 - accuracy: 0.8657 - val_loss: 0.2413 - val_accuracy: 0.9207\n",
      "Epoch 74/120\n",
      "229/229 [==============================] - 1s 2ms/step - loss: 0.3776 - accuracy: 0.8650 - val_loss: 0.2488 - val_accuracy: 0.9207\n",
      "Epoch 75/120\n",
      "229/229 [==============================] - 1s 2ms/step - loss: 0.3761 - accuracy: 0.8659 - val_loss: 0.2452 - val_accuracy: 0.9207\n",
      "Epoch 76/120\n",
      "229/229 [==============================] - 1s 2ms/step - loss: 0.3753 - accuracy: 0.8662 - val_loss: 0.1847 - val_accuracy: 0.9433\n",
      "Epoch 77/120\n",
      "229/229 [==============================] - 1s 2ms/step - loss: 0.3740 - accuracy: 0.8674 - val_loss: 0.2336 - val_accuracy: 0.9280\n",
      "Epoch 78/120\n",
      "229/229 [==============================] - 1s 2ms/step - loss: 0.3725 - accuracy: 0.8670 - val_loss: 0.2374 - val_accuracy: 0.9233\n",
      "Epoch 79/120\n",
      "229/229 [==============================] - 1s 2ms/step - loss: 0.3718 - accuracy: 0.8675 - val_loss: 0.2276 - val_accuracy: 0.9320\n",
      "Epoch 80/120\n",
      "229/229 [==============================] - 1s 2ms/step - loss: 0.3706 - accuracy: 0.8678 - val_loss: 0.2295 - val_accuracy: 0.9287\n",
      "Epoch 81/120\n",
      "229/229 [==============================] - 1s 2ms/step - loss: 0.3694 - accuracy: 0.8680 - val_loss: 0.2408 - val_accuracy: 0.9220\n",
      "Epoch 82/120\n",
      "229/229 [==============================] - 1s 2ms/step - loss: 0.3685 - accuracy: 0.8684 - val_loss: 0.2329 - val_accuracy: 0.9273\n",
      "Epoch 83/120\n",
      "229/229 [==============================] - 1s 2ms/step - loss: 0.3672 - accuracy: 0.8685 - val_loss: 0.2452 - val_accuracy: 0.9233\n",
      "Epoch 84/120\n",
      "229/229 [==============================] - 1s 2ms/step - loss: 0.3665 - accuracy: 0.8693 - val_loss: 0.2386 - val_accuracy: 0.9260\n",
      "Epoch 85/120\n",
      "229/229 [==============================] - 1s 2ms/step - loss: 0.3652 - accuracy: 0.8701 - val_loss: 0.2209 - val_accuracy: 0.9347\n",
      "Epoch 86/120\n",
      "229/229 [==============================] - 1s 2ms/step - loss: 0.3640 - accuracy: 0.8708 - val_loss: 0.2617 - val_accuracy: 0.9153\n",
      "Epoch 87/120\n",
      "229/229 [==============================] - 1s 2ms/step - loss: 0.3631 - accuracy: 0.8706 - val_loss: 0.2125 - val_accuracy: 0.9393\n",
      "Epoch 88/120\n",
      "229/229 [==============================] - 1s 2ms/step - loss: 0.3621 - accuracy: 0.8707 - val_loss: 0.2305 - val_accuracy: 0.9300\n",
      "Epoch 89/120\n",
      "229/229 [==============================] - 1s 2ms/step - loss: 0.3611 - accuracy: 0.8710 - val_loss: 0.2312 - val_accuracy: 0.9273\n",
      "Epoch 90/120\n",
      "229/229 [==============================] - 1s 2ms/step - loss: 0.3601 - accuracy: 0.8717 - val_loss: 0.2705 - val_accuracy: 0.9160\n",
      "Epoch 91/120\n",
      "229/229 [==============================] - 1s 2ms/step - loss: 0.3592 - accuracy: 0.8718 - val_loss: 0.2316 - val_accuracy: 0.9280\n",
      "Epoch 92/120\n",
      "229/229 [==============================] - 1s 2ms/step - loss: 0.3584 - accuracy: 0.8720 - val_loss: 0.2350 - val_accuracy: 0.9280\n",
      "Epoch 93/120\n",
      "229/229 [==============================] - 1s 2ms/step - loss: 0.3569 - accuracy: 0.8724 - val_loss: 0.2504 - val_accuracy: 0.9240\n",
      "Epoch 94/120\n",
      "229/229 [==============================] - 1s 2ms/step - loss: 0.3560 - accuracy: 0.8732 - val_loss: 0.2258 - val_accuracy: 0.9360\n",
      "Epoch 95/120\n",
      "229/229 [==============================] - 1s 2ms/step - loss: 0.3554 - accuracy: 0.8728 - val_loss: 0.2307 - val_accuracy: 0.9293\n",
      "Epoch 96/120\n",
      "229/229 [==============================] - 1s 2ms/step - loss: 0.3541 - accuracy: 0.8732 - val_loss: 0.2433 - val_accuracy: 0.9267\n",
      "Epoch 97/120\n",
      "229/229 [==============================] - 1s 2ms/step - loss: 0.3533 - accuracy: 0.8738 - val_loss: 0.2357 - val_accuracy: 0.9287\n",
      "Epoch 98/120\n",
      "229/229 [==============================] - 1s 2ms/step - loss: 0.3523 - accuracy: 0.8746 - val_loss: 0.2323 - val_accuracy: 0.9300\n",
      "Epoch 99/120\n",
      "229/229 [==============================] - 1s 2ms/step - loss: 0.3516 - accuracy: 0.8748 - val_loss: 0.2365 - val_accuracy: 0.9260\n",
      "Epoch 100/120\n",
      "229/229 [==============================] - 1s 2ms/step - loss: 0.3505 - accuracy: 0.8748 - val_loss: 0.2311 - val_accuracy: 0.9300\n",
      "Epoch 101/120\n",
      "229/229 [==============================] - 1s 2ms/step - loss: 0.3499 - accuracy: 0.8754 - val_loss: 0.2460 - val_accuracy: 0.9240\n",
      "Epoch 102/120\n",
      "229/229 [==============================] - 1s 2ms/step - loss: 0.3489 - accuracy: 0.8750 - val_loss: 0.2124 - val_accuracy: 0.9393\n",
      "Epoch 103/120\n",
      "229/229 [==============================] - 1s 2ms/step - loss: 0.3481 - accuracy: 0.8762 - val_loss: 0.2439 - val_accuracy: 0.9267\n",
      "Epoch 104/120\n",
      "229/229 [==============================] - 1s 2ms/step - loss: 0.3468 - accuracy: 0.8769 - val_loss: 0.2401 - val_accuracy: 0.9307\n",
      "Epoch 105/120\n",
      "229/229 [==============================] - 1s 2ms/step - loss: 0.3466 - accuracy: 0.8767 - val_loss: 0.2138 - val_accuracy: 0.9387\n",
      "Epoch 106/120\n",
      "229/229 [==============================] - 1s 2ms/step - loss: 0.3456 - accuracy: 0.8769 - val_loss: 0.2282 - val_accuracy: 0.9353\n",
      "Epoch 107/120\n",
      "229/229 [==============================] - 1s 2ms/step - loss: 0.3442 - accuracy: 0.8776 - val_loss: 0.2407 - val_accuracy: 0.9313\n",
      "Epoch 108/120\n",
      "229/229 [==============================] - 1s 2ms/step - loss: 0.3438 - accuracy: 0.8779 - val_loss: 0.2359 - val_accuracy: 0.9333\n",
      "Epoch 109/120\n",
      "229/229 [==============================] - 1s 2ms/step - loss: 0.3429 - accuracy: 0.8774 - val_loss: 0.2269 - val_accuracy: 0.9320\n",
      "Epoch 110/120\n",
      "229/229 [==============================] - 1s 2ms/step - loss: 0.3419 - accuracy: 0.8779 - val_loss: 0.2404 - val_accuracy: 0.9293\n",
      "Epoch 111/120\n",
      "229/229 [==============================] - 1s 2ms/step - loss: 0.3408 - accuracy: 0.8784 - val_loss: 0.2545 - val_accuracy: 0.9267\n",
      "Epoch 112/120\n",
      "229/229 [==============================] - 1s 2ms/step - loss: 0.3401 - accuracy: 0.8794 - val_loss: 0.2516 - val_accuracy: 0.9240\n",
      "Epoch 113/120\n",
      "229/229 [==============================] - 1s 2ms/step - loss: 0.3392 - accuracy: 0.8796 - val_loss: 0.2197 - val_accuracy: 0.9373\n",
      "Epoch 114/120\n",
      "229/229 [==============================] - 1s 2ms/step - loss: 0.3383 - accuracy: 0.8796 - val_loss: 0.2404 - val_accuracy: 0.9293\n"
     ]
    },
    {
     "name": "stdout",
     "output_type": "stream",
     "text": [
      "Epoch 115/120\n",
      "229/229 [==============================] - 1s 2ms/step - loss: 0.3375 - accuracy: 0.8800 - val_loss: 0.3007 - val_accuracy: 0.9107\n",
      "Epoch 116/120\n",
      "229/229 [==============================] - 1s 2ms/step - loss: 0.3364 - accuracy: 0.8808 - val_loss: 0.2422 - val_accuracy: 0.9320\n",
      "Epoch 117/120\n",
      "229/229 [==============================] - 1s 2ms/step - loss: 0.3357 - accuracy: 0.8802 - val_loss: 0.2627 - val_accuracy: 0.9240\n",
      "Epoch 118/120\n",
      "229/229 [==============================] - 1s 2ms/step - loss: 0.3345 - accuracy: 0.8810 - val_loss: 0.2254 - val_accuracy: 0.9367\n",
      "Epoch 119/120\n",
      "229/229 [==============================] - 1s 2ms/step - loss: 0.3339 - accuracy: 0.8812 - val_loss: 0.2438 - val_accuracy: 0.9293\n",
      "Epoch 120/120\n",
      "229/229 [==============================] - 1s 2ms/step - loss: 0.3332 - accuracy: 0.8807 - val_loss: 0.2548 - val_accuracy: 0.9253\n"
     ]
    }
   ],
   "source": [
    "# Train the model \n",
    "history = model.fit(train,\n",
    "                    label_train,\n",
    "                    epochs=120,\n",
    "                    batch_size=256,\n",
    "                    validation_data=(test, label_test))"
   ]
  },
  {
   "cell_type": "markdown",
   "metadata": {},
   "source": [
    "Recall that the dictionary `history` has two entries: the loss and the accuracy achieved using the training set."
   ]
  },
  {
   "cell_type": "code",
   "execution_count": 31,
   "metadata": {},
   "outputs": [
    {
     "data": {
      "text/plain": [
       "dict_keys(['loss', 'accuracy', 'val_loss', 'val_accuracy'])"
      ]
     },
     "execution_count": 31,
     "metadata": {},
     "output_type": "execute_result"
    }
   ],
   "source": [
    "history_dict = history.history\n",
    "history_dict.keys()"
   ]
  },
  {
   "cell_type": "markdown",
   "metadata": {},
   "source": [
    "## Plot the results\n",
    "\n",
    "As you might expect, we'll use our `matplotlib` for graphing. Use the data stored in the `history_dict` above to plot the loss vs epochs and the accuracy vs epochs. "
   ]
  },
  {
   "cell_type": "code",
   "execution_count": 35,
   "metadata": {},
   "outputs": [
    {
     "data": {
      "image/png": "[encoded data removed]",
      "text/plain": [
       "<Figure size 640x480 with 1 Axes>"
      ]
     },
     "metadata": {},
     "output_type": "display_data"
    }
   ],
   "source": [
    "# Plot the loss vs the number of epoch\n",
    "fig, ax = plt.subplots()\n",
    "plt.plot(list(range(0,120)), history_dict['loss'], label='Train')\n",
    "plt.plot(list(range(120)), history_dict['val_loss'], label='Test')\n",
    "ax.set_title('Loss')\n",
    "ax.set_xlabel('Epochs')\n",
    "ax.legend();"
   ]
  },
  {
   "cell_type": "code",
   "execution_count": 36,
   "metadata": {},
   "outputs": [
    {
     "data": {
      "image/png": "[encoded data removed]",
      "text/plain": [
       "<Figure size 640x480 with 1 Axes>"
      ]
     },
     "metadata": {},
     "output_type": "display_data"
    }
   ],
   "source": [
    "# Plot the training accuracy vs the number of epochs\n",
    "fig, ax = plt.subplots()\n",
    "plt.plot(list(range(0,120)), history_dict['accuracy'], label='Train')\n",
    "plt.plot(list(range(120)), history_dict['val_accuracy'], label='Test')\n",
    "ax.set_title('Accuracy')\n",
    "ax.set_xlabel('Epochs')\n",
    "ax.legend();"
   ]
  },
  {
   "cell_type": "markdown",
   "metadata": {},
   "source": [
    "It seems like we could just keep on going and accuracy would go up!"
   ]
  },
  {
   "cell_type": "markdown",
   "metadata": {},
   "source": [
    "## Make predictions\n",
    "\n",
    "Finally, it's time to make predictions. Use the relevant method discussed in the previous lesson to output (probability) predictions for the test set."
   ]
  },
  {
   "cell_type": "code",
   "execution_count": 37,
   "metadata": {},
   "outputs": [
    {
     "name": "stdout",
     "output_type": "stream",
     "text": [
      "47/47 [==============================] - 0s 857us/step\n"
     ]
    }
   ],
   "source": [
    "# Output (probability) predictions for the test set \n",
    "y_hat_test = model.predict(test)"
   ]
  },
  {
   "cell_type": "markdown",
   "metadata": {},
   "source": [
    "## Evaluate Performance\n",
    "\n",
    "Finally, print the loss and accuracy for both the train and test sets of the final trained model."
   ]
  },
  {
   "cell_type": "code",
   "execution_count": 38,
   "metadata": {},
   "outputs": [
    {
     "name": "stdout",
     "output_type": "stream",
     "text": [
      "1829/1829 [==============================] - 1s 718us/step - loss: 0.3326 - accuracy: 0.8795\n"
     ]
    },
    {
     "data": {
      "text/plain": [
       "[0.3325609862804413, 0.879521369934082]"
      ]
     },
     "execution_count": 38,
     "metadata": {},
     "output_type": "execute_result"
    }
   ],
   "source": [
    "# Print the loss and accuracy for the training set \n",
    "results_train = model.evaluate(train, label_train)\n",
    "results_train"
   ]
  },
  {
   "cell_type": "code",
   "execution_count": 39,
   "metadata": {},
   "outputs": [
    {
     "name": "stdout",
     "output_type": "stream",
     "text": [
      "47/47 [==============================] - 0s 794us/step - loss: 0.2548 - accuracy: 0.9253\n"
     ]
    },
    {
     "data": {
      "text/plain": [
       "[0.25484970211982727, 0.9253333210945129]"
      ]
     },
     "execution_count": 39,
     "metadata": {},
     "output_type": "execute_result"
    }
   ],
   "source": [
    "# Print the loss and accuracy for the test set \n",
    "results_test = model.evaluate(test, label_test)\n",
    "results_test"
   ]
  },
  {
   "cell_type": "markdown",
   "metadata": {},
   "source": [
    "We can see that the training set results are really good, and the test set results seem to be even better. In general, this type of result will be rare, as train set results are usually at least a bit better than test set results.\n",
    "\n",
    "\n",
    "## Additional Resources \n",
    "\n",
    "- https://github.com/susanli2016/Machine-Learning-with-Python/blob/master/Consumer_complaints.ipynb \n",
    "- https://catalog.data.gov/dataset/consumer-complaint-database \n",
    "\n",
    "## Summary \n",
    "\n",
    "Congratulations! In this lab, you built a neural network thanks to the tools provided by Keras! In upcoming lessons and labs we'll continue to investigate further ideas regarding how to tune and refine these models for increased accuracy and performance."
   ]
  }
 ],
 "metadata": {
  "kernelspec": {
   "display_name": "Python (nn)",
   "language": "python",
   "name": "nn"
  },
  "language_info": {
   "codemirror_mode": {
    "name": "ipython",
    "version": 3
   },
   "file_extension": ".py",
   "mimetype": "text/x-python",
   "name": "python",
   "nbconvert_exporter": "python",
   "pygments_lexer": "ipython3",
   "version": "3.10.9"
  },
  "toc": {
   "base_numbering": 1,
   "nav_menu": {},
   "number_sections": true,
   "sideBar": true,
   "skip_h1_title": false,
   "title_cell": "Table of Contents",
   "title_sidebar": "Contents",
   "toc_cell": false,
   "toc_position": {},
   "toc_section_display": true,
   "toc_window_display": false
  }
 },
 "nbformat": 4,
 "nbformat_minor": 2
}
